{
 "cells": [
  {
   "cell_type": "code",
   "execution_count": null,
   "metadata": {},
   "outputs": [],
   "source": [
    "%cd .."
   ]
  },
  {
   "cell_type": "code",
   "execution_count": null,
   "metadata": {},
   "outputs": [],
   "source": [
    "import pandas as pd\n",
    "import numpy as np"
   ]
  },
  {
   "cell_type": "code",
   "execution_count": null,
   "metadata": {},
   "outputs": [],
   "source": [
    "import glob, os"
   ]
  },
  {
   "cell_type": "code",
   "execution_count": null,
   "metadata": {},
   "outputs": [],
   "source": [
    "df_items = pd.read_csv(\"data/items.csv\")\n",
    "\n",
    "base = \"/Users/ivallesp/backup_tardigrade/cfavorita_results/\"\n",
    "\n",
    "paths = glob.glob(os.path.join(base, \"results*.csv\"))"
   ]
  },
  {
   "cell_type": "code",
   "execution_count": null,
   "metadata": {},
   "outputs": [],
   "source": [
    "paths"
   ]
  },
  {
   "cell_type": "markdown",
   "metadata": {},
   "source": [
    "## Sparsity"
   ]
  },
  {
   "cell_type": "code",
   "execution_count": null,
   "metadata": {},
   "outputs": [],
   "source": [
    "file = paths[0]"
   ]
  },
  {
   "cell_type": "code",
   "execution_count": null,
   "metadata": {},
   "outputs": [],
   "source": [
    "df = pd.read_csv(paths[0])\n",
    "\n",
    "df.target.map(np.expm1).value_counts()[0]/df.target.map(np.expm1).value_counts().sum()"
   ]
  },
  {
   "cell_type": "code",
   "execution_count": null,
   "metadata": {},
   "outputs": [],
   "source": [
    "df = pd.read_csv(paths[1])\n",
    "\n",
    "df.target.map(np.expm1).value_counts()[0]/df.target.map(np.expm1).value_counts().sum()"
   ]
  },
  {
   "cell_type": "code",
   "execution_count": null,
   "metadata": {},
   "outputs": [],
   "source": [
    "df = pd.read_csv(paths[2])\n",
    "\n",
    "df.target.map(np.expm1).value_counts()[0]/df.target.map(np.expm1).value_counts().sum()"
   ]
  },
  {
   "cell_type": "code",
   "execution_count": null,
   "metadata": {},
   "outputs": [],
   "source": [
    "(0.5246858950014468+0.5198615745261863+0.5260679456922743)/3"
   ]
  },
  {
   "cell_type": "markdown",
   "metadata": {},
   "source": [
    "## Results"
   ]
  },
  {
   "cell_type": "markdown",
   "metadata": {},
   "source": [
    "###  Table"
   ]
  },
  {
   "cell_type": "code",
   "execution_count": null,
   "metadata": {},
   "outputs": [],
   "source": [
    "for path in reversed(sorted(paths)):\n",
    "    print(os.path.split(path)[1])\n",
    "\n",
    "    df = pd.read_csv(path)\n",
    "\n",
    "    df = df.merge(df_items)\n",
    "    \n",
    "    df.perishable = (df.perishable*.25+1)\n",
    "\n",
    "\n",
    "    from sklearn.metrics import mean_squared_error\n",
    "\n",
    "    col = \"forecast_transformer_655321\"\n",
    "\n",
    "    cols = df.columns[df.columns.str.contains(\"forecast\")]\n",
    "    rmsle = []\n",
    "    rmswle = []\n",
    "    male = []\n",
    "\n",
    "    for col in cols:\n",
    "        rmsle.append(np.sqrt(np.mean((df.target - df[col])**2)))\n",
    "        rmswle.append(np.sqrt((df.perishable*(df.target - df[col])**2).sum()/df.perishable.sum()))\n",
    "        male.append(np.mean(np.abs(df.target - df[col])))\n",
    "    print(\"$\", round(np.mean(rmsle), 4), \"\\\\pm\", round(np.std(rmsle), 4), \"$\", \" & \",\n",
    "    \"$\", round(np.mean(rmswle), 4), \"\\\\pm\", round(np.std(rmswle), 4), \"$\", \" & \",\n",
    "    \"$\", round(np.mean(male), 4), \"\\\\pm\", round(np.std(male), 4), \"$\")"
   ]
  },
  {
   "cell_type": "code",
   "execution_count": null,
   "metadata": {},
   "outputs": [],
   "source": [
    "# Mean\n",
    "for path in reversed(sorted(paths)):\n",
    "    print(os.path.split(path)[1])\n",
    "\n",
    "    df = pd.read_csv(path)\n",
    "\n",
    "    df = df.merge(df_items)\n",
    "\n",
    "    df.perishable = (df.perishable*.25+1)\n",
    "\n",
    "\n",
    "    from sklearn.metrics import mean_squared_error\n",
    "\n",
    "    col = \"forecast_transformer_655321\"\n",
    "\n",
    "    cols = df.columns[df.columns.str.contains(\"forecast\")]\n",
    "    rmsle = []\n",
    "    rmswle = []\n",
    "    male = []\n",
    "\n",
    "    for col in cols:\n",
    "        rmsle.append(np.sqrt(np.mean((df.target - df.target.mean())**2)))\n",
    "        rmswle.append(np.sqrt((df.perishable*(df.target - df.target.mean())**2).sum()/df.perishable.sum()))\n",
    "        male.append(np.mean(np.abs(df.target - df.target.mean())))\n",
    "    print(\"$\", round(np.mean(rmsle), 4), \"\\\\pm\", round(np.std(rmsle), 4), \"$\", \" & \",\n",
    "    \"$\", round(np.mean(rmswle), 4), \"\\\\pm\", round(np.std(rmswle), 4), \"$\", \" & \",\n",
    "    \"$\", round(np.mean(male), 4), \"\\\\pm\", round(np.std(male), 4), \"$\")"
   ]
  },
  {
   "cell_type": "code",
   "execution_count": null,
   "metadata": {},
   "outputs": [],
   "source": [
    "np.random.seed(655321)\n",
    "# Random\n",
    "for path in reversed(sorted(paths)):\n",
    "    print(os.path.split(path)[1])\n",
    "\n",
    "    df = pd.read_csv(path)\n",
    "\n",
    "    df = df.merge(df_items)\n",
    "\n",
    "    df.perishable = (df.perishable*.25+1)\n",
    "\n",
    "\n",
    "    from sklearn.metrics import mean_squared_error\n",
    "\n",
    "    col = \"forecast_transformer_655321\"\n",
    "\n",
    "    cols = df.columns[df.columns.str.contains(\"forecast\")]\n",
    "    rmsle = []\n",
    "    rmswle = []\n",
    "    male = []\n",
    "\n",
    "    for col in cols:\n",
    "        s = df.target.sample(frac=1).values\n",
    "        rmsle.append(np.sqrt(np.mean((df.target.values - s)**2)))\n",
    "        rmswle.append(np.sqrt((df.perishable*(df.target.values - s)**2).sum()/df.perishable.sum()))\n",
    "        male.append(np.mean(np.abs(df.target.values - s)))\n",
    "    print(\"$\", round(np.mean(rmsle), 4), \"\\\\pm\", round(np.std(rmsle), 4), \"$\", \" & \",\n",
    "    \"$\", round(np.mean(rmswle), 4), \"\\\\pm\", round(np.std(rmswle), 4), \"$\", \" & \",\n",
    "    \"$\", round(np.mean(male), 4), \"\\\\pm\", round(np.std(male), 4), \"$\")"
   ]
  },
  {
   "cell_type": "markdown",
   "metadata": {},
   "source": [
    "### Daily"
   ]
  },
  {
   "cell_type": "code",
   "execution_count": null,
   "metadata": {},
   "outputs": [],
   "source": [
    "import matplotlib.pyplot as plt"
   ]
  },
  {
   "cell_type": "code",
   "execution_count": null,
   "metadata": {},
   "outputs": [],
   "source": [
    "list(filter(lambda x: \"lag_1\" in x, reversed(sorted(paths))))"
   ]
  },
  {
   "cell_type": "code",
   "execution_count": null,
   "metadata": {},
   "outputs": [],
   "source": [
    "plt.figure(figsize=(12, 3))\n",
    "names = []\n",
    "for path in filter(lambda x: \"lag_1\" in x, reversed(sorted(paths))):\n",
    "    if \"trim\" in path:\n",
    "        name = \"s2s_trim\"\n",
    "    elif \"transformer\" in path:\n",
    "        name = \"transformer\"\n",
    "    else:\n",
    "        name = \"s2s\"\n",
    "    names.append(name)\n",
    "    df = pd.read_csv(path)\n",
    "    df[\"date\"] = df.day.astype(str) + \"-\" + df.month.astype(str) + \"-\" + df.year.astype(str)\n",
    "    df[\"date\"] = pd.to_datetime(df.date, format=\"%d-%m-%Y\")\n",
    "    cols = df.columns[df.columns.str.contains(\"forecast\")]\n",
    "\n",
    "    results = []\n",
    "    for col in cols:\n",
    "        results.append((df.groupby(\"date\")\n",
    "         .apply(lambda d: np.sqrt(np.mean((d.target.values - d[col].values)**2)))))\n",
    "\n",
    "    results = pd.concat(results)\n",
    "    results_mu = results.groupby(results.index).mean()\n",
    "    results_sigma = results.groupby(results.index).std()\n",
    "    plt.errorbar(range(len(results_mu.index)), results_mu.values, yerr=results_sigma.values, capsize=3)\n",
    "plt.xticks(range(len(results_mu.index)), results_mu.index.astype(str), rotation=50)\n",
    "plt.grid()\n",
    "plt.legend(names)\n",
    "plt.ylabel(\"RMSLE\")\n",
    "plt.tight_layout()\n",
    "plt.savefig(\"lag1_daily_error.eps\")\n"
   ]
  },
  {
   "cell_type": "code",
   "execution_count": null,
   "metadata": {},
   "outputs": [],
   "source": [
    "plt.figure(figsize=(12, 3))\n",
    "names = []\n",
    "for path in filter(lambda x: \"lag_2\" in x, reversed(sorted(paths))):\n",
    "    if \"trim\" in path:\n",
    "        name = \"s2s_trim\"\n",
    "    elif \"transformer\" in path:\n",
    "        name = \"transformer\"\n",
    "    else:\n",
    "        name = \"s2s\"\n",
    "    names.append(name)\n",
    "    df = pd.read_csv(path)\n",
    "    df[\"date\"] = df.day.astype(str) + \"-\" + df.month.astype(str) + \"-\" + df.year.astype(str)\n",
    "    df[\"date\"] = pd.to_datetime(df.date, format=\"%d-%m-%Y\")\n",
    "    cols = df.columns[df.columns.str.contains(\"forecast\")]\n",
    "\n",
    "    results = []\n",
    "    for col in cols:\n",
    "        results.append((df.groupby(\"date\")\n",
    "         .apply(lambda d: np.sqrt(np.mean((d.target.values - d[col].values)**2)))))\n",
    "\n",
    "    results = pd.concat(results)\n",
    "    results_mu = results.groupby(results.index).mean()\n",
    "    results_sigma = results.groupby(results.index).std()\n",
    "    plt.errorbar(range(len(results_mu.index)), results_mu.values, yerr=results_sigma.values, capsize=3)\n",
    "plt.xticks(range(len(results_mu.index)), results_mu.index.astype(str), rotation=50)\n",
    "plt.grid()\n",
    "plt.legend(names)\n",
    "plt.ylabel(\"RMSLE\")\n",
    "plt.tight_layout()\n",
    "plt.savefig(\"lag2_daily_error.eps\")\n"
   ]
  },
  {
   "cell_type": "code",
   "execution_count": null,
   "metadata": {},
   "outputs": [],
   "source": [
    "plt.figure(figsize=(12, 3))\n",
    "names = []\n",
    "for path in filter(lambda x: \"lag_3\" in x, reversed(sorted(paths))):\n",
    "    if \"trim\" in path:\n",
    "        name = \"s2s_trim\"\n",
    "    elif \"transformer\" in path:\n",
    "        name = \"transformer\"\n",
    "    else:\n",
    "        name = \"s2s\"\n",
    "    names.append(name)\n",
    "    df = pd.read_csv(path)\n",
    "    df[\"date\"] = df.day.astype(str) + \"-\" + df.month.astype(str) + \"-\" + df.year.astype(str)\n",
    "    df[\"date\"] = pd.to_datetime(df.date, format=\"%d-%m-%Y\")\n",
    "    cols = df.columns[df.columns.str.contains(\"forecast\")]\n",
    "\n",
    "    results = []\n",
    "    for col in cols:\n",
    "        results.append((df.groupby(\"date\")\n",
    "         .apply(lambda d: np.sqrt(np.mean((d.target.values - d[col].values)**2)))))\n",
    "\n",
    "    results = pd.concat(results)\n",
    "    results_mu = results.groupby(results.index).mean()\n",
    "    results_sigma = results.groupby(results.index).std()\n",
    "    plt.errorbar(range(len(results_mu.index)), results_mu.values, yerr=results_sigma.values, capsize=3)\n",
    "plt.xticks(range(len(results_mu.index)), results_mu.index.astype(str), rotation=50)\n",
    "plt.grid()\n",
    "plt.legend(names)\n",
    "plt.ylabel(\"RMSLE\")\n",
    "plt.tight_layout()\n",
    "plt.savefig(\"lag3_daily_error.eps\")\n"
   ]
  },
  {
   "cell_type": "code",
   "execution_count": null,
   "metadata": {},
   "outputs": [],
   "source": [
    "plt.figure(figsize=(12, 3))\n",
    "names = []\n",
    "for path in filter(lambda x: \"lag_3\" in x, reversed(sorted(paths))):\n",
    "    if \"trim\" in path:\n",
    "        name = \"s2s_trim\"\n",
    "    elif \"transformer\" in path:\n",
    "        name = \"transformer\"\n",
    "    else:\n",
    "        name = \"s2s\"\n",
    "    names.append(name)\n",
    "    df = pd.read_csv(path)\n",
    "    df[\"date\"] = df.day.astype(str) + \"-\" + df.month.astype(str) + \"-\" + df.year.astype(str)\n",
    "    df[\"date\"] = pd.to_datetime(df.date, format=\"%d-%m-%Y\")\n",
    "    cols = df.columns[df.columns.str.contains(\"forecast\")]\n",
    "\n",
    "    results = []\n",
    "    for col in cols:\n",
    "        results.append((df.groupby(\"date\")\n",
    "         .apply(lambda d: np.sqrt(np.mean((d.target.values - d[col].values)**2)))))\n",
    "\n",
    "\n",
    "    plt.errorbar(range(len(results_mu.index)), results_mu.values, yerr=results_sigma.values, capsize=3)\n",
    "plt.xticks(range(len(results_mu.index)), results_mu.index.astype(str), rotation=50)\n",
    "plt.grid()\n",
    "plt.legend(names)\n",
    "plt.ylabel(\"RMSLE\")\n",
    "plt.tight_layout()\n",
    "plt.savefig(\"lag3_daily_error.eps\")\n"
   ]
  },
  {
   "cell_type": "markdown",
   "metadata": {},
   "source": [
    "### SAMPLES "
   ]
  },
  {
   "cell_type": "code",
   "execution_count": null,
   "metadata": {},
   "outputs": [],
   "source": [
    "from tqdm import tqdm"
   ]
  },
  {
   "cell_type": "code",
   "execution_count": null,
   "metadata": {},
   "outputs": [],
   "source": [
    "dfs = []\n",
    "for path in tqdm(paths):\n",
    "    if \"trim\" in path:\n",
    "        name = \"s2s_trim\"\n",
    "    elif \"transformer\" in path:\n",
    "        name = \"transformer\"\n",
    "    else:\n",
    "        name = \"s2s\"\n",
    "    \n",
    "    if \"lag_3\" in path:\n",
    "        lag = 3\n",
    "    elif \"lag_2\" in path:\n",
    "        lag = 2\n",
    "    else:\n",
    "        lag = 1\n",
    "        \n",
    "    df = pd.read_csv(path)\n",
    "    df[\"date\"] = df.day.astype(str) + \"-\" + df.month.astype(str) + \"-\" + df.year.astype(str)\n",
    "    df[\"date\"] = pd.to_datetime(df.date, format=\"%d-%m-%Y\")\n",
    "    cols = df.columns[df.columns.str.contains(\"forecast\")]\n",
    "    newcols = [\"forecast_\"+str(i) for i in range(len(cols))]\n",
    "    df = df.rename(columns = dict(zip(cols, newcols)))\n",
    "    df[\"model\"] = name\n",
    "    df[\"lag\"] = lag\n",
    "    dfs.append(df)"
   ]
  },
  {
   "cell_type": "code",
   "execution_count": null,
   "metadata": {},
   "outputs": [],
   "source": [
    "df_unified = pd.concat(dfs)"
   ]
  },
  {
   "cell_type": "code",
   "execution_count": null,
   "metadata": {},
   "outputs": [],
   "source": [
    "cases = df.groupby([\"store_nbr\", \"item_nbr\"]).target.sum()\n",
    "cases = cases[cases.rank()>int(cases.shape[0]*0.8)]\n",
    "np.random.seed(655334)\n",
    "cases = (cases[cases>0].reset_index().sample(5))[[\"store_nbr\", \"item_nbr\"]]\n",
    "store_nbrs, item_nbrs = zip(*zip(cases.store_nbr.values, cases.item_nbr.values))"
   ]
  },
  {
   "cell_type": "code",
   "execution_count": null,
   "metadata": {},
   "outputs": [],
   "source": [
    "item_nbrs = [862213, 996606, 1473409, 1239906, 414750]\n",
    "store_nbrs = [3, 47, 42, 19, 48]"
   ]
  },
  {
   "cell_type": "code",
   "execution_count": null,
   "metadata": {},
   "outputs": [],
   "source": [
    "for i in range(5):\n",
    "    store_nbr = store_nbrs[i]\n",
    "    item_nbr = item_nbrs[i]\n",
    "    m = -1\n",
    "    target_plotted=False\n",
    "    if i<4:\n",
    "        plt.figure(figsize=(12, 2))\n",
    "    else:\n",
    "        plt.figure(figsize=(12, 2.65))\n",
    "    \n",
    "    for mdl in tqdm(df_unified.model.unique()):\n",
    "        df_ts = df_unified.loc[lambda d:(d.store_nbr == store_nbr) & (d.item_nbr == item_nbr) & (d.model == mdl)]\n",
    "\n",
    "        mu = df_ts[df_ts.columns[df_ts.columns.str.contains(\"forecast\")]].mean(axis=1)\n",
    "        sigma = df_ts[df_ts.columns[df_ts.columns.str.contains(\"forecast\")]].std(axis=1)\n",
    "        target = df_ts.target\n",
    "        x = df_ts.date\n",
    "\n",
    "        if not target_plotted:\n",
    "            target_plotted=True\n",
    "\n",
    "            plt.plot(range(len(x)), target)\n",
    "\n",
    "        plt.errorbar(range(len(x)), mu, yerr=sigma, capsize=3)\n",
    "        m = max(m, max(target.max(), (mu+sigma).max()))\n",
    "    plt.ylim(0,m)\n",
    "    plt.xticks(range(len(x)), x.astype(str), rotation=50)\n",
    "    plt.grid()\n",
    "    plt.ylabel(f\"Log Sales\\nitem: {item_nbr}\\nstore: {store_nbr}\")\n",
    "    if i<4:\n",
    "        plt.gca().axes.set_xticklabels([])\n",
    "    if i==0:\n",
    "        plt.legend([\"target\"] + df_unified.model.unique().tolist(), loc=\"upper right\")\n",
    "    plt.tight_layout()\n",
    "    plt.savefig(f\"sample_{i}_log.eps\")"
   ]
  },
  {
   "cell_type": "code",
   "execution_count": null,
   "metadata": {},
   "outputs": [],
   "source": [
    "for i in range(5):\n",
    "    store_nbr = store_nbrs[i]\n",
    "    item_nbr = item_nbrs[i]\n",
    "    m = -1\n",
    "    target_plotted=False\n",
    "    if i<4:\n",
    "        plt.figure(figsize=(12, 2))\n",
    "    else:\n",
    "        plt.figure(figsize=(12, 2.65))\n",
    "\n",
    "    for mdl in tqdm(df_unified.model.unique()):\n",
    "        df_ts = df_unified.loc[lambda d:(d.store_nbr == store_nbr) & (d.item_nbr == item_nbr) & (d.model == mdl)]\n",
    "\n",
    "        mu = df_ts[df_ts.columns[df_ts.columns.str.contains(\"forecast\")]].apply(np.expm1).mean(axis=1).round()\n",
    "        sigma = df_ts[df_ts.columns[df_ts.columns.str.contains(\"forecast\")]].apply(np.expm1).std(axis=1)\n",
    "        target = df_ts.target.map(np.expm1)\n",
    "        x = df_ts.date\n",
    "\n",
    "        if not target_plotted:\n",
    "            target_plotted=True\n",
    "\n",
    "            plt.plot(range(len(x)), target)\n",
    "\n",
    "        plt.errorbar(range(len(x)), mu, yerr=sigma, capsize=3)\n",
    "        m = max(m, max(target.max(), (mu+sigma).max()))\n",
    "    plt.ylim(0,m)\n",
    "    plt.xticks(range(len(x)), x.astype(str), rotation=50)\n",
    "    plt.grid()\n",
    "    plt.ylabel(f\"Sales\\nitem: {item_nbr}\\nstore: {store_nbr}\")\n",
    "    if i<4:\n",
    "        plt.gca().axes.set_xticklabels([])\n",
    "    if i==0:\n",
    "        plt.legend([\"target\"] + df_unified.model.unique().tolist(), loc=\"upper right\")\n",
    "\n",
    "    plt.tight_layout()\n",
    "    plt.savefig(f\"sample_{i}_lin.eps\")"
   ]
  },
  {
   "cell_type": "code",
   "execution_count": null,
   "metadata": {},
   "outputs": [],
   "source": []
  }
 ],
 "metadata": {
  "kernelspec": {
   "display_name": "cfavorita",
   "language": "python",
   "name": "cfavorita"
  },
  "language_info": {
   "codemirror_mode": {
    "name": "ipython",
    "version": 3
   },
   "file_extension": ".py",
   "mimetype": "text/x-python",
   "name": "python",
   "nbconvert_exporter": "python",
   "pygments_lexer": "ipython3",
   "version": "3.6.9"
  }
 },
 "nbformat": 4,
 "nbformat_minor": 4
}
